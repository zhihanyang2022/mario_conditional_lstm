{
 "cells": [
  {
   "cell_type": "code",
   "execution_count": 1,
   "metadata": {},
   "outputs": [],
   "source": [
    "import os\n",
    "import json\n",
    "import numpy\n",
    "import matplotlib.pyplot as plt\n",
    "from tqdm import tqdm_notebook"
   ]
  },
  {
   "cell_type": "code",
   "execution_count": 2,
   "metadata": {},
   "outputs": [
    {
     "name": "stdout",
     "output_type": "stream",
     "text": [
      "37\n"
     ]
    }
   ],
   "source": [
    "path_1 = \"/home/yangz2/projects/pcgml_conditional_lstm/data/super_mario_bros\"\n",
    "path_2 = \"/home/yangz2/projects/pcgml_conditional_lstm/data/super_mario_bros_2_japan\"\n",
    "annot_txts = [\n",
    "    os.path.join(path_1, fn) for fn in os.listdir(path_1) if fn.split('.')[-1] == 'txt'\n",
    "] + [\n",
    "    os.path.join(path_2, fn) for fn in os.listdir(path_2) if fn.split('.')[-1] == 'txt'\n",
    "]\n",
    "print(len(annot_txts))"
   ]
  },
  {
   "cell_type": "code",
   "execution_count": 3,
   "metadata": {},
   "outputs": [],
   "source": [
    "def load_txt(txt):\n",
    "    with open(txt, 'r') as txt_f:\n",
    "        return txt_f.readlines()"
   ]
  },
  {
   "cell_type": "code",
   "execution_count": 4,
   "metadata": {},
   "outputs": [],
   "source": [
    "add_depth = False"
   ]
  },
  {
   "cell_type": "code",
   "execution_count": 6,
   "metadata": {},
   "outputs": [
    {
     "name": "stdout",
     "output_type": "stream",
     "text": [
      "(165, 14)\n",
      "(373, 14)\n",
      "(215, 14)\n",
      "(184, 14)\n",
      "(150, 14)\n",
      "(176, 14)\n",
      "(158, 14)\n",
      "(149, 14)\n",
      "(197, 14)\n",
      "(187, 14)\n",
      "(202, 14)\n",
      "(222, 14)\n",
      "(197, 14)\n",
      "(198, 14)\n",
      "(150, 14)\n",
      "(193, 15)\n",
      "(180, 16)\n",
      "(193, 15)\n",
      "(209, 15)\n",
      "(213, 13)\n",
      "(363, 14)\n",
      "(223, 14)\n",
      "(182, 15)\n",
      "(189, 15)\n",
      "(183, 12)\n",
      "(257, 14)\n",
      "(244, 15)\n",
      "(160, 15)\n",
      "(180, 14)\n",
      "(201, 14)\n",
      "(219, 14)\n",
      "(226, 15)\n",
      "(204, 15)\n",
      "(172, 15)\n",
      "(172, 14)\n",
      "(165, 15)\n",
      "(191, 14)\n"
     ]
    }
   ],
   "source": [
    "with open('./corpuses/mario_corpus.txt', 'w+') as txt_f:\n",
    "    for i, fp in enumerate(annot_txts):\n",
    "        infile = load_txt(fp)\n",
    "        lines = []\n",
    "        for line in infile:\n",
    "            lines.append(list(line.rstrip()))\n",
    "        infile_transposed = np.array(lines).T\n",
    "        print(infile_transposed.shape)\n",
    "        counter = 0\n",
    "        for line in infile_transposed:  # each line represents an old column\n",
    "            num_chars_to_add = 16 - len(lines)\n",
    "            txt_f.write(\"\".join(['-'] * num_chars_to_add + list(line)))\n",
    "            if add_depth:\n",
    "                if counter % 5 == 0:\n",
    "                    txt_f.write(\"\".join([\"@\"] * int(counter / 5)))\n",
    "            txt_f.write(\"\\n\")\n",
    "            counter += 1\n",
    "        if i+1 == len(annot_txts):\n",
    "            txt_f.write(\")\")\n",
    "        else:\n",
    "            txt_f.write(\")\\n\")"
   ]
  },
  {
   "cell_type": "markdown",
   "metadata": {},
   "source": [
    "https://stackoverflow.com/questions/39457744/backpropagation-through-time-in-stateful-rnns"
   ]
  },
  {
   "cell_type": "markdown",
   "metadata": {},
   "source": [
    "https://github.com/keras-team/keras/issues/3669"
   ]
  },
  {
   "cell_type": "code",
   "execution_count": null,
   "metadata": {},
   "outputs": [],
   "source": []
  }
 ],
 "metadata": {
  "kernelspec": {
   "display_name": "Python 3",
   "language": "python",
   "name": "python3"
  },
  "language_info": {
   "codemirror_mode": {
    "name": "ipython",
    "version": 3
   },
   "file_extension": ".py",
   "mimetype": "text/x-python",
   "name": "python",
   "nbconvert_exporter": "python",
   "pygments_lexer": "ipython3",
   "version": "3.7.7"
  },
  "toc": {
   "base_numbering": 1,
   "nav_menu": {},
   "number_sections": true,
   "sideBar": true,
   "skip_h1_title": false,
   "title_cell": "Table of Contents",
   "title_sidebar": "Contents",
   "toc_cell": false,
   "toc_position": {},
   "toc_section_display": true,
   "toc_window_display": false
  },
  "varInspector": {
   "cols": {
    "lenName": 16,
    "lenType": 16,
    "lenVar": 40
   },
   "kernels_config": {
    "python": {
     "delete_cmd_postfix": "",
     "delete_cmd_prefix": "del ",
     "library": "var_list.py",
     "varRefreshCmd": "print(var_dic_list())"
    },
    "r": {
     "delete_cmd_postfix": ") ",
     "delete_cmd_prefix": "rm(",
     "library": "var_list.r",
     "varRefreshCmd": "cat(var_dic_list()) "
    }
   },
   "types_to_exclude": [
    "module",
    "function",
    "builtin_function_or_method",
    "instance",
    "_Feature"
   ],
   "window_display": false
  }
 },
 "nbformat": 4,
 "nbformat_minor": 4
}
