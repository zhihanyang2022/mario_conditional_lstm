{
 "cells": [
  {
   "cell_type": "markdown",
   "metadata": {},
   "source": [
    "# Mario corpus stats\n",
    "\n",
    "Stats computed on Super Mario Bros. and Super Mario Bros. 2 (Japan)."
   ]
  },
  {
   "cell_type": "code",
   "execution_count": 192,
   "metadata": {},
   "outputs": [],
   "source": [
    "import numpy as np\n",
    "import matplotlib.pyplot as plt\n",
    "import matplotlib\n",
    "from matplotlib import cm"
   ]
  },
  {
   "cell_type": "markdown",
   "metadata": {},
   "source": [
    "## Apperance matrix"
   ]
  },
  {
   "cell_type": "code",
   "execution_count": 204,
   "metadata": {},
   "outputs": [],
   "source": [
    "def at_least_one_of_A_is_in_B(A:list, B:list):\n",
    "    return any(a in B for a in A)"
   ]
  },
  {
   "cell_type": "code",
   "execution_count": 205,
   "metadata": {},
   "outputs": [],
   "source": [
    "with open('./corpuses/mario_corpus.txt', 'r') as f:\n",
    "    levels = [level for level in f.read().rstrip(')').split(')')]"
   ]
  },
  {
   "cell_type": "code",
   "execution_count": 206,
   "metadata": {},
   "outputs": [],
   "source": [
    "columns = []\n",
    "for level in levels:\n",
    "    columns.extend(level.strip().split('\\n'))"
   ]
  },
  {
   "cell_type": "code",
   "execution_count": 207,
   "metadata": {},
   "outputs": [],
   "source": [
    "appearances = np.zeros((len(columns), 5))\n",
    "for i, col in enumerate(columns):\n",
    "    for j, tile_group in enumerate([['Q', 'q'], ['o'], ['E'], ['<', '>', '[', ']'], ['B', 'b']]):\n",
    "        if at_least_one_of_A_is_in_B(A=tile_group, B=list(col)):\n",
    "            appearances[i, j] = 1"
   ]
  },
  {
   "cell_type": "markdown",
   "metadata": {},
   "source": [
    "## Special-tile combination frequency"
   ]
  },
  {
   "cell_type": "code",
   "execution_count": 208,
   "metadata": {},
   "outputs": [],
   "source": [
    "at_least_one = appearances[np.sum(appearances, axis=-1) >= 1]"
   ]
  },
  {
   "cell_type": "code",
   "execution_count": 209,
   "metadata": {},
   "outputs": [
    {
     "data": {
      "text/plain": [
       "array([ 0.        , 89.92314261,  9.39368061,  0.68317677])"
      ]
     },
     "execution_count": 209,
     "metadata": {},
     "output_type": "execute_result"
    }
   ],
   "source": [
    "np.bincount(np.sum(at_least_one, axis=-1).astype(int)) / len(at_least_one) * 100"
   ]
  },
  {
   "cell_type": "markdown",
   "metadata": {},
   "source": [
    "## Co-occurence matrix"
   ]
  },
  {
   "cell_type": "code",
   "execution_count": 210,
   "metadata": {},
   "outputs": [],
   "source": [
    "two = appearances[np.sum(appearances, axis=-1) == 2]"
   ]
  },
  {
   "cell_type": "code",
   "execution_count": 211,
   "metadata": {},
   "outputs": [],
   "source": [
    "coo = np.zeros((5, 5))\n",
    "\n",
    "for obs in two:\n",
    "    \n",
    "    indices = np.argwhere(obs == 1).flatten()\n",
    "    \n",
    "    if len(indices) == 1:\n",
    "        ix = indices[0]\n",
    "        coo[ix, ix] += 1\n",
    "    \n",
    "    elif len(indices) == 2:\n",
    "        ix1, ix2 = indices\n",
    "        coo[ix1, ix2] += 1"
   ]
  },
  {
   "cell_type": "code",
   "execution_count": 212,
   "metadata": {},
   "outputs": [],
   "source": [
    "mask = np.tri(coo.shape[0], k=0)\n",
    "coo = np.ma.array(coo, mask=mask)"
   ]
  },
  {
   "cell_type": "code",
   "execution_count": 213,
   "metadata": {},
   "outputs": [],
   "source": [
    "normalized_coo = coo / np.sum(coo) * 100"
   ]
  },
  {
   "cell_type": "code",
   "execution_count": 214,
   "metadata": {
    "code_folding": []
   },
   "outputs": [
    {
     "data": {
      "image/png": "[encoded data removed]",
      "text/plain": [
       "<Figure size 504x504 with 1 Axes>"
      ]
     },
     "metadata": {
      "needs_background": "light"
     },
     "output_type": "display_data"
    }
   ],
   "source": [
    "# figsize and font-size\n",
    "\n",
    "plt.figure(figsize=(7, 7))\n",
    "matplotlib.rcParams.update({'font.size': 15})\n",
    "\n",
    "# matshow\n",
    "\n",
    "cmap = cm.get_cmap('coolwarm')\n",
    "cmap.set_bad('w')\n",
    "plt.matshow(normalized_c_matrix, fignum=1, cmap=cmap)\n",
    "\n",
    "# add labels indicating exact values\n",
    "\n",
    "for (i, j), z in np.ndenumerate(normalized_coo):\n",
    "    if mask[i, j] != 1:\n",
    "        plt.text(j, i, f'{z:0.2f}%', ha='center', va='center',\n",
    "            bbox=dict(boxstyle='round', facecolor='white', edgecolor='0.3'))\n",
    "        \n",
    "# bbox: https://matplotlib.org/3.2.2/api/_as_gen/matplotlib.patches.FancyBboxPatch.html#matplotlib.patches.FancyBboxPatch\n",
    "   \n",
    "# set tick labels and title\n",
    "    \n",
    "plt.gca().set_xticklabels([None, 'Quest.', 'Coin', 'Enemy', 'Pipe', 'Cannon'])\n",
    "plt.gca().set_yticklabels([None, 'Quest.', 'Coin', 'Enemy', 'Pipe', 'Cannon'])\n",
    "\n",
    "plt.title('Co-occurrence table', y=1.08)\n",
    "\n",
    "plt.show()"
   ]
  },
  {
   "cell_type": "code",
   "execution_count": null,
   "metadata": {},
   "outputs": [],
   "source": []
  },
  {
   "cell_type": "code",
   "execution_count": null,
   "metadata": {},
   "outputs": [],
   "source": []
  }
 ],
 "metadata": {
  "kernelspec": {
   "display_name": "Python 3",
   "language": "python",
   "name": "python3"
  },
  "language_info": {
   "codemirror_mode": {
    "name": "ipython",
    "version": 3
   },
   "file_extension": ".py",
   "mimetype": "text/x-python",
   "name": "python",
   "nbconvert_exporter": "python",
   "pygments_lexer": "ipython3",
   "version": "3.7.7"
  },
  "toc": {
   "base_numbering": 1,
   "nav_menu": {},
   "number_sections": false,
   "sideBar": true,
   "skip_h1_title": false,
   "title_cell": "Table of Contents",
   "title_sidebar": "Contents",
   "toc_cell": false,
   "toc_position": {
    "height": "calc(100% - 180px)",
    "left": "10px",
    "top": "150px",
    "width": "320px"
   },
   "toc_section_display": true,
   "toc_window_display": false
  },
  "varInspector": {
   "cols": {
    "lenName": 16,
    "lenType": 16,
    "lenVar": 40
   },
   "kernels_config": {
    "python": {
     "delete_cmd_postfix": "",
     "delete_cmd_prefix": "del ",
     "library": "var_list.py",
     "varRefreshCmd": "print(var_dic_list())"
    },
    "r": {
     "delete_cmd_postfix": ") ",
     "delete_cmd_prefix": "rm(",
     "library": "var_list.r",
     "varRefreshCmd": "cat(var_dic_list()) "
    }
   },
   "types_to_exclude": [
    "module",
    "function",
    "builtin_function_or_method",
    "instance",
    "_Feature"
   ],
   "window_display": false
  }
 },
 "nbformat": 4,
 "nbformat_minor": 4
}
