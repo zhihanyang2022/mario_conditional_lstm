{
 "cells": [
  {
   "cell_type": "code",
   "execution_count": 10,
   "metadata": {},
   "outputs": [],
   "source": [
    "import json\n",
    "import numpy as np"
   ]
  },
  {
   "cell_type": "code",
   "execution_count": 12,
   "metadata": {},
   "outputs": [],
   "source": [
    "template = np.zeros((5, 16))"
   ]
  },
  {
   "cell_type": "markdown",
   "metadata": {},
   "source": [
    "## Single-element conditioning"
   ]
  },
  {
   "cell_type": "code",
   "execution_count": 11,
   "metadata": {},
   "outputs": [],
   "source": [
    "one_element_template = [0, 0, 1, 1, 0, 0, 1, 1, 0, 0, 1, 1, 0, 0, 1, 1]"
   ]
  },
  {
   "cell_type": "code",
   "execution_count": 18,
   "metadata": {},
   "outputs": [],
   "source": [
    "ix_to_element = {\n",
    "    0 : \"question\",\n",
    "    1 : \"coin\",\n",
    "    2 : \"enemy\",\n",
    "    3 : \"pipe\",\n",
    "    4 : \"cannon\",\n",
    "}\n",
    "element_to_ix = {v:k for k, v in ix_to_element.items()}"
   ]
  },
  {
   "cell_type": "code",
   "execution_count": 15,
   "metadata": {},
   "outputs": [],
   "source": [
    "for i in range(5):\n",
    "    tape = template.copy()\n",
    "    tape[i] = one_element_template\n",
    "    with open(f'./condition_tapes/{ix_to_element[i]}_tape.json', 'w+') as json_f:\n",
    "        json.dump(tape.tolist(), json_f)"
   ]
  },
  {
   "cell_type": "markdown",
   "metadata": {},
   "source": [
    "## Double-element conditioning (alternate)"
   ]
  },
  {
   "cell_type": "markdown",
   "metadata": {},
   "source": [
    "- question + coin\n",
    "- question + enemy\n",
    "- question + pipe\n",
    "- question + cannon\n",
    "- coin + enemy\n",
    "- coin + pipe\n",
    "- coin + cannon\n",
    "- enemy + pipe\n",
    "- enemy + cannon\n",
    "- pipe + cannon"
   ]
  },
  {
   "cell_type": "code",
   "execution_count": 17,
   "metadata": {},
   "outputs": [],
   "source": [
    "ix_to_pair = {\n",
    "    0 : \"question_coin\",\n",
    "    1 : \"question_enemy\",\n",
    "    2 : \"question_pipe\",\n",
    "    3 : \"question_cannon\",\n",
    "    4 : \"coin_enemy\",\n",
    "    5 : \"coin_pipe\",\n",
    "    6 : \"coin_cannon\",\n",
    "    7 : \"enemy_pipe\",\n",
    "    8 : \"enemy_cannon\",\n",
    "    9 : \"pipe_cannon\"\n",
    "}"
   ]
  },
  {
   "cell_type": "code",
   "execution_count": 16,
   "metadata": {},
   "outputs": [],
   "source": [
    "two_element_template_1 = [0, 0, 1, 1, 0, 0, 1, 1, 0, 0, 1, 1, 0, 0, 1, 1]\n",
    "two_element_template_2 = [1, 1, 0, 0, 1, 1, 0, 0, 1, 1, 0, 0, 1, 1, 0, 0]"
   ]
  },
  {
   "cell_type": "code",
   "execution_count": 19,
   "metadata": {},
   "outputs": [],
   "source": [
    "for i in range(len(ix_to_pair.keys())):\n",
    "    tape = template.copy()\n",
    "    pair = ix_to_pair[i]\n",
    "    element_one, element_two = pair.split('_')\n",
    "    tape[element_to_ix[element_one]] = two_element_template_1\n",
    "    tape[element_to_ix[element_two]] = two_element_template_2\n",
    "    with open(f'./condition_tapes_double_alternate/{pair}_tape.json', 'w+') as json_f:\n",
    "        json.dump(tape.tolist(), json_f)"
   ]
  },
  {
   "cell_type": "markdown",
   "metadata": {},
   "source": [
    "## Single-element mix tape"
   ]
  },
  {
   "cell_type": "code",
   "execution_count": 74,
   "metadata": {},
   "outputs": [],
   "source": [
    "num_chunks = 10\n",
    "tape_height = 5\n",
    "chunk_width = 16\n",
    "tape_len = num_chunks * chunk_width"
   ]
  },
  {
   "cell_type": "code",
   "execution_count": 75,
   "metadata": {},
   "outputs": [],
   "source": [
    "def get_random_tape_int(tape_len, tape_height):\n",
    "    tape_int = []\n",
    "    while len(tape_int) <= tape_len - 2:\n",
    "        tile_ix = np.random.randint(0, tape_height)\n",
    "        tape_int.extend([tile_ix, tile_ix])\n",
    "        if len(tape_int) <= tape_len - 2:\n",
    "            tape_int.extend([tape_height, tape_height])\n",
    "    return tape_int"
   ]
  },
  {
   "cell_type": "code",
   "execution_count": 76,
   "metadata": {},
   "outputs": [],
   "source": [
    "def get_random_tape(tape_len, tape_height):\n",
    "    tape = np.zeros((tape_height, tape_len))\n",
    "    for i, ix in enumerate(get_random_tape_int(tape_len, tape_height)):\n",
    "        if ix != 5: tape[ix, i]=1\n",
    "    return tape"
   ]
  },
  {
   "cell_type": "code",
   "execution_count": null,
   "metadata": {},
   "outputs": [],
   "source": [
    "tape_dir = 'condition_tapes_single_alternate'"
   ]
  },
  {
   "cell_type": "code",
   "execution_count": 73,
   "metadata": {},
   "outputs": [
    {
     "data": {
      "text/plain": [
       "(5, 160)"
      ]
     },
     "execution_count": 73,
     "metadata": {},
     "output_type": "execute_result"
    }
   ],
   "source": [
    "np.random.seed(42)\n",
    "for i in range(10):\n",
    "    with open(f'{tape_dir}/random_tape_{i}.json', 'w+') as json_f:\n",
    "        json.dump(get_random_tape(tape_len, tape_height).tolist(), json_f)"
   ]
  },
  {
   "cell_type": "code",
   "execution_count": null,
   "metadata": {},
   "outputs": [],
   "source": []
  }
 ],
 "metadata": {
  "kernelspec": {
   "display_name": "Python 3",
   "language": "python",
   "name": "python3"
  },
  "language_info": {
   "codemirror_mode": {
    "name": "ipython",
    "version": 3
   },
   "file_extension": ".py",
   "mimetype": "text/x-python",
   "name": "python",
   "nbconvert_exporter": "python",
   "pygments_lexer": "ipython3",
   "version": "3.7.7"
  },
  "toc": {
   "base_numbering": 1,
   "nav_menu": {},
   "number_sections": false,
   "sideBar": true,
   "skip_h1_title": false,
   "title_cell": "Table of Contents",
   "title_sidebar": "Contents",
   "toc_cell": false,
   "toc_position": {},
   "toc_section_display": true,
   "toc_window_display": true
  },
  "varInspector": {
   "cols": {
    "lenName": 16,
    "lenType": 16,
    "lenVar": 40
   },
   "kernels_config": {
    "python": {
     "delete_cmd_postfix": "",
     "delete_cmd_prefix": "del ",
     "library": "var_list.py",
     "varRefreshCmd": "print(var_dic_list())"
    },
    "r": {
     "delete_cmd_postfix": ") ",
     "delete_cmd_prefix": "rm(",
     "library": "var_list.r",
     "varRefreshCmd": "cat(var_dic_list()) "
    }
   },
   "types_to_exclude": [
    "module",
    "function",
    "builtin_function_or_method",
    "instance",
    "_Feature"
   ],
   "window_display": false
  }
 },
 "nbformat": 4,
 "nbformat_minor": 4
}
