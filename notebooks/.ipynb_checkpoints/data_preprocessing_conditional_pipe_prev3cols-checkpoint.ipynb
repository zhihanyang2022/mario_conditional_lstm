{
 "cells": [
  {
   "cell_type": "code",
   "execution_count": 15,
   "metadata": {},
   "outputs": [],
   "source": [
    "corpus_name = 'corpuses/mario_corpus_conditional_pipe_prev3cols'"
   ]
  },
  {
   "cell_type": "code",
   "execution_count": 16,
   "metadata": {},
   "outputs": [],
   "source": [
    "import os\n",
    "import json\n",
    "import numpy\n",
    "import matplotlib.pyplot as plt\n",
    "from tqdm import tqdm_notebook"
   ]
  },
  {
   "cell_type": "code",
   "execution_count": 17,
   "metadata": {},
   "outputs": [
    {
     "name": "stdout",
     "output_type": "stream",
     "text": [
      "37\n"
     ]
    }
   ],
   "source": [
    "path_1 = \"/home/yangz2/projects/pcgml_conditional_lstm/data/super_mario_bros\"\n",
    "path_2 = \"/home/yangz2/projects/pcgml_conditional_lstm/data/super_mario_bros_2_japan\"\n",
    "annot_txts = [\n",
    "    os.path.join(path_1, fn) for fn in os.listdir(path_1) if fn.split('.')[-1] == 'txt'\n",
    "] + [\n",
    "    os.path.join(path_2, fn) for fn in os.listdir(path_2) if fn.split('.')[-1] == 'txt'\n",
    "]\n",
    "print(len(annot_txts))"
   ]
  },
  {
   "cell_type": "code",
   "execution_count": 18,
   "metadata": {},
   "outputs": [],
   "source": [
    "def load_txt(txt):\n",
    "    with open(txt, 'r') as txt_f:\n",
    "        return txt_f.readlines()"
   ]
  },
  {
   "cell_type": "markdown",
   "metadata": {},
   "source": [
    "<img src=\"https://i.loli.net/2020/07/19/DlJTRyzrwFIfb7U.png\" width=500>"
   ]
  },
  {
   "cell_type": "code",
   "execution_count": 19,
   "metadata": {},
   "outputs": [],
   "source": [
    "prev_n_cols = 3"
   ]
  },
  {
   "cell_type": "code",
   "execution_count": 20,
   "metadata": {},
   "outputs": [],
   "source": [
    "with open(f'{corpus_name}.txt', 'w+') as txt_f:\n",
    "    \n",
    "    for i, fp in enumerate(annot_txts):\n",
    "        \n",
    "        infile = load_txt(fp)\n",
    "        lines = []\n",
    "        for line in infile:\n",
    "            lines.append(list(line.rstrip()))\n",
    "        infile_transposed = np.array(lines).T\n",
    "\n",
    "        for i, line in enumerate(infile_transposed):  # each line represents an old column\n",
    "            \n",
    "            if i <= (infile_transposed.shape[0] - 1) - prev_n_cols:\n",
    "                \n",
    "                if any([char in [\"<\", \">\", \"[\", \"]\"] for char in infile_transposed[i+prev_n_cols]]):\n",
    "                    txt_f.write(\"Y\")\n",
    "                else:\n",
    "                    txt_f.write('N')\n",
    "                    \n",
    "            else:\n",
    "                \n",
    "                txt_f.write('N')\n",
    "            \n",
    "            num_chars_to_add = 16 - len(lines)\n",
    "            txt_f.write(\"\".join(['-'] * num_chars_to_add + list(line)))\n",
    "            \n",
    "            txt_f.write(\"\\n\")  # end the line\n",
    "        \n",
    "        if i+1 == len(annot_txts):\n",
    "            txt_f.write(\")\")\n",
    "        else:\n",
    "            txt_f.write(\")\\n\")"
   ]
  },
  {
   "cell_type": "code",
   "execution_count": null,
   "metadata": {},
   "outputs": [],
   "source": []
  }
 ],
 "metadata": {
  "kernelspec": {
   "display_name": "Python 3",
   "language": "python",
   "name": "python3"
  },
  "language_info": {
   "codemirror_mode": {
    "name": "ipython",
    "version": 3
   },
   "file_extension": ".py",
   "mimetype": "text/x-python",
   "name": "python",
   "nbconvert_exporter": "python",
   "pygments_lexer": "ipython3",
   "version": "3.7.7"
  },
  "toc": {
   "base_numbering": 1,
   "nav_menu": {},
   "number_sections": true,
   "sideBar": true,
   "skip_h1_title": false,
   "title_cell": "Table of Contents",
   "title_sidebar": "Contents",
   "toc_cell": false,
   "toc_position": {},
   "toc_section_display": true,
   "toc_window_display": false
  },
  "varInspector": {
   "cols": {
    "lenName": 16,
    "lenType": 16,
    "lenVar": 40
   },
   "kernels_config": {
    "python": {
     "delete_cmd_postfix": "",
     "delete_cmd_prefix": "del ",
     "library": "var_list.py",
     "varRefreshCmd": "print(var_dic_list())"
    },
    "r": {
     "delete_cmd_postfix": ") ",
     "delete_cmd_prefix": "rm(",
     "library": "var_list.r",
     "varRefreshCmd": "cat(var_dic_list()) "
    }
   },
   "types_to_exclude": [
    "module",
    "function",
    "builtin_function_or_method",
    "instance",
    "_Feature"
   ],
   "window_display": false
  }
 },
 "nbformat": 4,
 "nbformat_minor": 4
}
