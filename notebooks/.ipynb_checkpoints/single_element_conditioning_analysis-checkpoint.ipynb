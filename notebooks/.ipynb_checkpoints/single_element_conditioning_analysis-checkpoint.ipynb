{
 "cells": [
  {
   "cell_type": "code",
   "execution_count": 87,
   "metadata": {},
   "outputs": [],
   "source": [
    "import os\n",
    "import json\n",
    "import numpy as np\n",
    "import matplotlib.pyplot"
   ]
  },
  {
   "cell_type": "code",
   "execution_count": 88,
   "metadata": {},
   "outputs": [],
   "source": [
    "mode = 'single_alternate'"
   ]
  },
  {
   "cell_type": "code",
   "execution_count": 89,
   "metadata": {},
   "outputs": [],
   "source": [
    "if mode == 'single':\n",
    "    condition_tapess_dir = \"condition_tapes_single\"\n",
    "elif mode == 'single_alternate':\n",
    "    condition_tapess_dir = \"condition_tapes_single_alternate\"\n",
    "elif mode == 'double_alternate':\n",
    "    condition_tapess_dir = \"condition_tapes_double_alternate\"\n",
    "gen_parent_dir = \"lstm_conditional_generate_levels_txt_by_tape\""
   ]
  },
  {
   "cell_type": "code",
   "execution_count": 75,
   "metadata": {},
   "outputs": [],
   "source": [
    "ix_to_name = {\n",
    "    0 : 'question',\n",
    "    1 : 'coin',\n",
    "    2 : 'enemy',\n",
    "    3 : 'pipe',\n",
    "    4 : 'cannon'\n",
    "}"
   ]
  },
  {
   "cell_type": "code",
   "execution_count": 90,
   "metadata": {
    "code_folding": []
   },
   "outputs": [],
   "source": [
    "ix_to_element = {\n",
    "    0 : [\"Q\", \"?\"],\n",
    "    1 : [\"o\"],\n",
    "    2 : [\"E\"],\n",
    "    3 : [\"<\", \">\", \"[\", \"]\"],\n",
    "    4 : [\"b\", \"B\"],\n",
    "}"
   ]
  },
  {
   "cell_type": "code",
   "execution_count": 91,
   "metadata": {},
   "outputs": [],
   "source": [
    "def at_least_one_of_A_is_in_B(A:list, B:list):\n",
    "    return any(a in B for a in A)"
   ]
  },
  {
   "cell_type": "code",
   "execution_count": 98,
   "metadata": {},
   "outputs": [],
   "source": [
    "scoreboard_Y = {\n",
    "    \"question\" : [],\n",
    "    \"coin\" : [],\n",
    "    \"enemy\" : [],\n",
    "    \"pipe\" : [],\n",
    "    \"cannon\" : []\n",
    "}\n",
    "\n",
    "scoreboard_N = {\n",
    "    \"question\" : [],\n",
    "    \"coin\" : [],\n",
    "    \"enemy\" : [],\n",
    "    \"pipe\" : [],\n",
    "    \"cannon\" : []\n",
    "}\n",
    "\n",
    "for tape_fname in os.listdir(condition_tapess_dir):\n",
    "    \n",
    "    tape_name = tape_fname.split('.')[0]\n",
    "    condition_tapes_path = f\"{condition_tapess_dir}/{tape_fname}\"\n",
    "    \n",
    "    with open(condition_tapes_path, 'r') as json_f:\n",
    "        condition_tape = np.array(json.load(json_f))[:,:-1].T\n",
    "    \n",
    "    gen_dir = f\"{gen_parent_dir}/{tape_name}\"\n",
    "    \n",
    "    scores = []\n",
    "    \n",
    "    for gen_txt in [fname for fname in os.listdir(gen_dir) if fname.split('.')[-1] == 'txt']:\n",
    "        \n",
    "        with open(f'{gen_dir}/{gen_txt}', 'r') as txt_f:\n",
    "            infile = np.array([list(line.rstrip()) for line in txt_f.readlines()]).T\n",
    "            infile = infile[3:]  # exclude the seed\n",
    "        \n",
    "        assert infile.shape[0] == condition_tape.shape[0]\n",
    "        \n",
    "        for col_ix in np.arange(condition_tape.shape[0]):\n",
    "            \n",
    "            for condition_ix in range(5):\n",
    "                \n",
    "                if condition_tape[col_ix][condition_ix] == 1:\n",
    "                \n",
    "                    if at_least_one_of_A_is_in_B(ix_to_element[condition_ix], infile[col_ix]):\n",
    "                        scoreboard_Y[ix_to_name[condition_ix]].append(1)\n",
    "                    else:\n",
    "                        scoreboard_Y[ix_to_name[condition_ix]].append(0)\n",
    "                        \n",
    "                else:\n",
    "                    \n",
    "                    if at_least_one_of_A_is_in_B(ix_to_element[condition_ix], infile[col_ix]):\n",
    "                        scoreboard_N[ix_to_name[condition_ix]].append(0)\n",
    "                    else:\n",
    "                        scoreboard_N[ix_to_name[condition_ix]].append(1)"
   ]
  },
  {
   "cell_type": "code",
   "execution_count": 93,
   "metadata": {},
   "outputs": [],
   "source": [
    "scoreboard_Y_stats = {k:np.mean(v) for k, v in scoreboard.items()}"
   ]
  },
  {
   "cell_type": "code",
   "execution_count": 94,
   "metadata": {},
   "outputs": [
    {
     "data": {
      "text/plain": [
       "{'question': 0.9886363636363636,\n",
       " 'coin': 0.9041095890410958,\n",
       " 'enemy': 0.9605263157894737,\n",
       " 'pipe': 0.8602150537634409,\n",
       " 'cannon': 0.6}"
      ]
     },
     "execution_count": 94,
     "metadata": {},
     "output_type": "execute_result"
    }
   ],
   "source": [
    "scoreboard_stats"
   ]
  },
  {
   "cell_type": "code",
   "execution_count": 96,
   "metadata": {},
   "outputs": [],
   "source": [
    "scoreboard_stats = {k:len(v) for k, v in scoreboard.items()}"
   ]
  },
  {
   "cell_type": "code",
   "execution_count": 97,
   "metadata": {},
   "outputs": [
    {
     "data": {
      "text/plain": [
       "{'question': 176, 'coin': 146, 'enemy': 152, 'pipe': 186, 'cannon': 140}"
      ]
     },
     "execution_count": 97,
     "metadata": {},
     "output_type": "execute_result"
    }
   ],
   "source": [
    "scoreboard_stats"
   ]
  },
  {
   "cell_type": "code",
   "execution_count": null,
   "metadata": {},
   "outputs": [],
   "source": []
  }
 ],
 "metadata": {
  "kernelspec": {
   "display_name": "Python 3",
   "language": "python",
   "name": "python3"
  },
  "language_info": {
   "codemirror_mode": {
    "name": "ipython",
    "version": 3
   },
   "file_extension": ".py",
   "mimetype": "text/x-python",
   "name": "python",
   "nbconvert_exporter": "python",
   "pygments_lexer": "ipython3",
   "version": "3.7.7"
  },
  "toc": {
   "base_numbering": 1,
   "nav_menu": {},
   "number_sections": true,
   "sideBar": true,
   "skip_h1_title": false,
   "title_cell": "Table of Contents",
   "title_sidebar": "Contents",
   "toc_cell": false,
   "toc_position": {},
   "toc_section_display": true,
   "toc_window_display": false
  },
  "varInspector": {
   "cols": {
    "lenName": 16,
    "lenType": 16,
    "lenVar": 40
   },
   "kernels_config": {
    "python": {
     "delete_cmd_postfix": "",
     "delete_cmd_prefix": "del ",
     "library": "var_list.py",
     "varRefreshCmd": "print(var_dic_list())"
    },
    "r": {
     "delete_cmd_postfix": ") ",
     "delete_cmd_prefix": "rm(",
     "library": "var_list.r",
     "varRefreshCmd": "cat(var_dic_list()) "
    }
   },
   "types_to_exclude": [
    "module",
    "function",
    "builtin_function_or_method",
    "instance",
    "_Feature"
   ],
   "window_display": false
  }
 },
 "nbformat": 4,
 "nbformat_minor": 4
}
